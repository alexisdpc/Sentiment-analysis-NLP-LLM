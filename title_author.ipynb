{
 "cells": [
  {
   "cell_type": "markdown",
   "metadata": {},
   "source": [
    "## Extracting Title and Author from scientific articles"
   ]
  },
  {
   "cell_type": "code",
   "execution_count": 1,
   "metadata": {},
   "outputs": [
    {
     "name": "stdout",
     "output_type": "stream",
     "text": [
      "13\n"
     ]
    },
    {
     "data": {
      "text/plain": [
       "34428"
      ]
     },
     "execution_count": 1,
     "metadata": {},
     "output_type": "execute_result"
    }
   ],
   "source": [
    "import pathlib, fitz\n",
    "import requests\n",
    "import random\n",
    "### pdftitle quickly extracts the title from the pdf metadata\n",
    "\n",
    "paper_number = random.randint(0,12)\n",
    "paper_number = 13\n",
    "print(paper_number)\n",
    "\n",
    "fname = 'examples/paper_'+str(paper_number)+'.pdf'  # get document filename\n",
    "with fitz.open(fname) as doc:  # open document\n",
    "    text = \"\".join([page.get_text() for page in doc])\n",
    "# write as a binary file to support non-ASCII characters\n",
    "pathlib.Path(fname + \".txt\").write_bytes(text.encode())"
   ]
  },
  {
   "cell_type": "code",
   "execution_count": 2,
   "metadata": {},
   "outputs": [
    {
     "name": "stdout",
     "output_type": "stream",
     "text": [
      "10.1103/PhysRevLett.125.110602\n"
     ]
    }
   ],
   "source": [
    "# All scientific articles have a DOI\n",
    "# All DOIs start with 10\n",
    "\n",
    "doi_index = text.find('doi')\n",
    "if doi_index == -1:\n",
    "    doi_index = text.find('DOI')\n",
    "if doi_index == -1:\n",
    "    doi_index == text.find('Doi')  \n",
    "\n",
    "doi_start = text.find('10', doi_index)  \n",
    "end_space = text.find(' ', doi_start)\n",
    "end_line = text.find('\\n', doi_start)\n",
    "if  end_space < end_line:\n",
    "  doi_end = end_space\n",
    "else:\n",
    "  doi_end = end_line  \n",
    "DOI = text[doi_start:doi_end]\n",
    "\n",
    "# If the DOI is cut we do a second search:\n",
    "if len(DOI)<10:\n",
    "  doi_index2 = text.find('doi', doi_index+1)\n",
    "  doi_start = text.find('10', doi_index2)  \n",
    "  end_space = text.find(' ', doi_start)\n",
    "  end_line = text.find('\\n', doi_start)\n",
    "  if  end_space < end_line:\n",
    "    doi_end = end_space\n",
    "  else:\n",
    "    doi_end = end_line  \n",
    "DOI = text[doi_start:doi_end]    \n",
    "   \n",
    "print(DOI)"
   ]
  },
  {
   "cell_type": "code",
   "execution_count": 3,
   "metadata": {},
   "outputs": [
    {
     "name": "stdout",
     "output_type": "stream",
     "text": [
      "title={Faster Uphill Relaxation in Thermodynamically Equidistant Temperature Quenches}\n",
      "author={Lapolla, Alessio and Godec, AljaÅ¾}\n"
     ]
    }
   ],
   "source": [
    "def get_doi_bibtex(DOI):\n",
    "  base_url = f\"https://doi.org/{DOI}\"\n",
    "  headers = {\n",
    "      \"Accept\": \"text/bibliography; style=bibtex\"\n",
    "  }\n",
    "  response = requests.get(base_url, headers=headers)\n",
    "\n",
    "  if response.status_code == 200:\n",
    "    return response.text.strip()\n",
    "  else:\n",
    "    print(response.status_code)\n",
    "    print(response.text)\n",
    "    return None\n",
    "\n",
    "bibtex = get_doi_bibtex(DOI)\n",
    "title_init = bibtex.find('title')\n",
    "title_end = bibtex.find('}', title_init)\n",
    "author_init = bibtex.find('author')\n",
    "author_end = bibtex.find('}',author_init)\n",
    "\n",
    "title = bibtex[title_init:title_end+1]\n",
    "authors = bibtex[author_init:author_end+1]\n",
    "\n",
    "print(title)\n",
    "print(authors)"
   ]
  }
 ],
 "metadata": {
  "kernelspec": {
   "display_name": "Python 3",
   "language": "python",
   "name": "python3"
  },
  "language_info": {
   "codemirror_mode": {
    "name": "ipython",
    "version": 3
   },
   "file_extension": ".py",
   "mimetype": "text/x-python",
   "name": "python",
   "nbconvert_exporter": "python",
   "pygments_lexer": "ipython3",
   "version": "3.10.12"
  },
  "orig_nbformat": 4
 },
 "nbformat": 4,
 "nbformat_minor": 2
}
